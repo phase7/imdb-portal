{
 "cells": [
  {
   "cell_type": "code",
   "execution_count": 1,
   "metadata": {},
   "outputs": [],
   "source": [
    "import json,requests"
   ]
  },
  {
   "cell_type": "code",
   "execution_count": 2,
   "metadata": {},
   "outputs": [],
   "source": [
    "srchstr = \"matrix\";"
   ]
  },
  {
   "cell_type": "code",
   "execution_count": 3,
   "metadata": {},
   "outputs": [],
   "source": [
    "def jsonp_to_json(jsonp):\n",
    "    json = jsonp[jsonp.find('{'):-1];\n",
    "    return json;\n",
    "\n",
    "def get_suggestion_json(srch_term):\n",
    "    api_str = f\"https://v2.sg.media-imdb.com/suggests/{srch_term[0]}/{srch_term}.json\"; #https://sg.media-imdb.com/suggests/{srch_term[0]}/{srch_term}.json\n",
    "    return jsonp_to_json(requests.get(api_str).text)\n",
    "#     response = response[response]"
   ]
  },
  {
   "cell_type": "code",
   "execution_count": 4,
   "metadata": {
    "scrolled": false
   },
   "outputs": [],
   "source": [
    "str1 = get_suggestion_json(srchstr)"
   ]
  },
  {
   "cell_type": "markdown",
   "metadata": {},
   "source": [
    "# suggestion api is up and running"
   ]
  },
  {
   "cell_type": "code",
   "execution_count": 5,
   "metadata": {},
   "outputs": [
    {
     "name": "stdout",
     "output_type": "stream",
     "text": [
      "The Matrix 4 tt10838180 10\n",
      "The Matrix tt0133093 9\n",
      "The Matrix Reloaded tt0234215 9\n",
      "The Matrix Revolutions tt0242653 9\n",
      "Matrix tt0106062 9\n",
      "The Matrix Revisited tt0295432 9\n",
      "Matrix tt11749868 10\n",
      "Cyber Wars tt0270841 9\n"
     ]
    }
   ],
   "source": [
    "data = json.loads(str1)['d']\n",
    "for i in range(len(data)):\n",
    "    instance = data[i]\n",
    "    print(instance['l'], instance['id'], len(instance['id']));"
   ]
  },
  {
   "cell_type": "code",
   "execution_count": 6,
   "metadata": {},
   "outputs": [
    {
     "data": {
      "text/plain": [
       "dict_keys(['l', 'id', 's', 'y', 'q', 'i'])"
      ]
     },
     "execution_count": 6,
     "metadata": {},
     "output_type": "execute_result"
    }
   ],
   "source": [
    "data[2].keys()"
   ]
  },
  {
   "cell_type": "code",
   "execution_count": 7,
   "metadata": {},
   "outputs": [
    {
     "data": {
      "text/plain": [
       "'tt0242653'"
      ]
     },
     "execution_count": 7,
     "metadata": {},
     "output_type": "execute_result"
    }
   ],
   "source": [
    "data[3]['id']"
   ]
  },
  {
   "cell_type": "markdown",
   "metadata": {},
   "source": [
    "https://github.com/dgilland/omdb.py"
   ]
  },
  {
   "cell_type": "code",
   "execution_count": 12,
   "metadata": {},
   "outputs": [],
   "source": [
    "import omdb\n",
    "from secretfile import omdbapikey #this is my own api for omdb"
   ]
  },
  {
   "cell_type": "code",
   "execution_count": 10,
   "metadata": {},
   "outputs": [],
   "source": [
    "client = omdb.OMDBClient(apikey=omdbapikey)"
   ]
  },
  {
   "cell_type": "code",
   "execution_count": 11,
   "metadata": {
    "scrolled": true
   },
   "outputs": [
    {
     "data": {
      "text/plain": [
       "{'title': 'The Matrix Revolutions',\n",
       " 'year': '2003',\n",
       " 'rated': 'R',\n",
       " 'released': '05 Nov 2003',\n",
       " 'runtime': '129 min',\n",
       " 'genre': 'Action, Sci-Fi',\n",
       " 'director': 'Lana Wachowski, Lilly Wachowski',\n",
       " 'writer': 'Lilly Wachowski, Lana Wachowski, Lilly Wachowski (characters), Lana Wachowski (characters)',\n",
       " 'actors': 'Mary Alice, Tanveer K. Atwal, Helmut Bakaitis, Kate Beahan',\n",
       " 'plot': 'The human city of Zion defends itself against the massive invasion of the machines as Neo fights to end the war at another front while also opposing the rogue Agent Smith.',\n",
       " 'language': 'English, French',\n",
       " 'country': 'USA',\n",
       " 'awards': '4 wins & 34 nominations.',\n",
       " 'poster': 'https://m.media-amazon.com/images/M/MV5BNzNlZTZjMDctZjYwNi00NzljLWIwN2QtZWZmYmJiYzQ0MTk2XkEyXkFqcGdeQXVyNTAyODkwOQ@@._V1_SX300.jpg',\n",
       " 'ratings': [{'source': 'Internet Movie Database', 'value': '6.7/10'},\n",
       "  {'source': 'Rotten Tomatoes', 'value': '35%'},\n",
       "  {'source': 'Metacritic', 'value': '47/100'}],\n",
       " 'metascore': '47',\n",
       " 'imdb_rating': '6.7',\n",
       " 'imdb_votes': '428,318',\n",
       " 'imdb_id': 'tt0242653',\n",
       " 'type': 'movie',\n",
       " 'dvd': '06 Apr 2004',\n",
       " 'box_office': '$139,076,032',\n",
       " 'production': 'Warner Bros. Pictures',\n",
       " 'website': 'N/A',\n",
       " 'response': 'True'}"
      ]
     },
     "execution_count": 11,
     "metadata": {},
     "output_type": "execute_result"
    }
   ],
   "source": [
    "# for len(client)\n",
    "client.imdbid('tt0242653')"
   ]
  },
  {
   "cell_type": "markdown",
   "metadata": {},
   "source": [
    "### So, I can get suggestions on a movie from the suggestion api, and then with omdb api I can get that movie data. now I'll need a method to show it in a view"
   ]
  },
  {
   "cell_type": "markdown",
   "metadata": {},
   "source": [
    "# Useful links for table generation from json\n",
    "- [StackOverflow 1](https://stackoverflow.com/questions/27450698/django-how-to-display-json-file-in-html-trtdname-tdtdvalue-tdtddate)"
   ]
  },
  {
   "cell_type": "code",
   "execution_count": null,
   "metadata": {},
   "outputs": [],
   "source": [
    "\n",
    "from IPython.display import HTML\n",
    "from IPython.display import display\n",
    "\n",
    "# Taken from https://stackoverflow.com/questions/31517194/how-to-hide-one-specific-cell-input-or-output-in-ipython-notebook\n",
    "tag = HTML('''<script>\n",
    "code_show=true; \n",
    "function code_toggle() {\n",
    "    if (code_show){\n",
    "        $('div.cell.code_cell.rendered.selected div.input').hide();\n",
    "    } else {\n",
    "        $('div.cell.code_cell.rendered.selected div.input').show();\n",
    "    }\n",
    "    code_show = !code_show\n",
    "} \n",
    "$( document ).ready(code_toggle);\n",
    "</script>\n",
    "To show/hide this cell's raw code input, click <a href=\"javascript:code_toggle()\">here</a>.''')\n",
    "display(tag)\n",
    "\n",
    "############### Write code below ##################"
   ]
  }
 ],
 "metadata": {
  "kernelspec": {
   "display_name": "Python 3",
   "language": "python",
   "name": "python3"
  },
  "language_info": {
   "codemirror_mode": {
    "name": "ipython",
    "version": 3
   },
   "file_extension": ".py",
   "mimetype": "text/x-python",
   "name": "python",
   "nbconvert_exporter": "python",
   "pygments_lexer": "ipython3",
   "version": "3.6.9"
  }
 },
 "nbformat": 4,
 "nbformat_minor": 2
}
